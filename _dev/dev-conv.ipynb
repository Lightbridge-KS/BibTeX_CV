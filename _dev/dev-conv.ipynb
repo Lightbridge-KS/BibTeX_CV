{
 "cells": [
  {
   "cell_type": "markdown",
   "metadata": {},
   "source": [
    "# Dev: Convert "
   ]
  },
  {
   "cell_type": "code",
   "execution_count": 2,
   "metadata": {},
   "outputs": [],
   "source": [
    "from pybtex.database import parse_string\n",
    "from pybtex.database.output.bibtex import Writer\n",
    "from _convert import read_text_file"
   ]
  },
  {
   "cell_type": "code",
   "execution_count": 3,
   "metadata": {},
   "outputs": [],
   "source": [
    "# Example BibTeX entry\n",
    "bibtex_entry = \"\"\"\n",
    "@Manual{thaipdf,\n",
    "    title = {thaipdf: R Markdown to PDF in Thai Language},\n",
    "    author = {Kittipos Sirivongrungson},\n",
    "    year = {2022},\n",
    "    note = {R package version 0.1.2},\n",
    "    url = {https://CRAN.R-project.org/package=thaipdf},\n",
    "}\n",
    "\n",
    "@Manual{moodleStats,\n",
    "    title = {moodleStats: Analysis of Moodle Quiz Report},\n",
    "    author = {Kittipos Sirivongrungson},\n",
    "    year = {2024},\n",
    "    note = {R package version 0.1.0, \n",
    "https://lightbridge-ks.github.io/moodleStats/},\n",
    "    url = {https://github.com/Lightbridge-KS/moodleStats},\n",
    "  }\n",
    "\"\"\""
   ]
  },
  {
   "cell_type": "markdown",
   "metadata": {},
   "source": [
    "## Fn: `bibtex_to_ris_file()`"
   ]
  },
  {
   "cell_type": "code",
   "execution_count": 4,
   "metadata": {},
   "outputs": [],
   "source": [
    "def bibtex_to_ris_file(bibtex_path, ris_path):\n",
    "    # Step 1: Read the BibTeX file\n",
    "    bibtex_content = read_text_file(bibtex_path)\n",
    "    \n",
    "    if bibtex_content is None:\n",
    "        print(f\"Failed to read BibTeX file from {bibtex_path}.\")\n",
    "        return\n",
    "    \n",
    "    # Step 2: Convert the BibTeX content to RIS format\n",
    "    ris_content = bibtex_to_ris(bibtex_content)\n",
    "    \n",
    "    # Step 3: Write the RIS content to the output file\n",
    "    write_text_file(ris_content, ris_path)"
   ]
  },
  {
   "cell_type": "markdown",
   "metadata": {},
   "source": [
    "## Fn: `bibtex_to_ris()`"
   ]
  },
  {
   "cell_type": "code",
   "execution_count": 1,
   "metadata": {},
   "outputs": [],
   "source": [
    "def bibtex_to_ris(bibtex_str):\n",
    "    bib_data = parse_string(bibtex_str, 'bibtex')\n",
    "    ris_entries = []\n",
    "    \n",
    "    for entry in bib_data.entries.values():\n",
    "        ris_entry = []\n",
    "        entry_type = entry.type.upper()\n",
    "        \n",
    "        if entry_type == 'MANUAL':\n",
    "            ris_entry.append(\"TY  - MANUAL\")\n",
    "        else:\n",
    "            ris_entry.append(f\"TY  - {entry_type}\")\n",
    "\n",
    "        for person in entry.persons.get('author', []):\n",
    "            ris_entry.append(f\"AU  - {person.first_names[0]} {person.last_names[0]}\")\n",
    "\n",
    "        ris_entry.append(f\"TI  - {entry.fields.get('title', '')}\")\n",
    "        ris_entry.append(f\"PY  - {entry.fields.get('year', '')}\")\n",
    "        ris_entry.append(f\"UR  - {entry.fields.get('url', '')}\")\n",
    "        ris_entry.append(f\"N1  - {entry.fields.get('note', '')}\")\n",
    "        ris_entry.append(\"ER  - \")\n",
    "\n",
    "        ris_entries.append('\\n'.join(ris_entry))\n",
    "    \n",
    "    return '\\n\\n'.join(ris_entries)"
   ]
  },
  {
   "cell_type": "markdown",
   "metadata": {},
   "source": [
    "### Test Run"
   ]
  },
  {
   "cell_type": "code",
   "execution_count": 25,
   "metadata": {},
   "outputs": [
    {
     "name": "stdout",
     "output_type": "stream",
     "text": [
      "TY  - MANUAL\n",
      "AU  - Kittipos Sirivongrungson\n",
      "TI  - thaipdf: R Markdown to PDF in Thai Language\n",
      "PY  - 2022\n",
      "UR  - https://CRAN.R-project.org/package=thaipdf\n",
      "N1  - R package version 0.1.2\n",
      "ER  - \n",
      "\n",
      "TY  - MANUAL\n",
      "AU  - Kittipos Sirivongrungson\n",
      "TI  - moodleStats: Analysis of Moodle Quiz Report\n",
      "PY  - 2024\n",
      "UR  - https://github.com/Lightbridge-KS/moodleStats\n",
      "N1  - R package version 0.1.0, https://lightbridge-ks.github.io/moodleStats/\n",
      "ER  - \n"
     ]
    }
   ],
   "source": [
    "# Convert BibTeX to RIS\n",
    "ris_entry = bibtex_to_ris(bibtex_entry)\n",
    "print(ris_entry)"
   ]
  },
  {
   "cell_type": "markdown",
   "metadata": {},
   "source": [
    "### Component"
   ]
  },
  {
   "cell_type": "code",
   "execution_count": 20,
   "metadata": {},
   "outputs": [
    {
     "data": {
      "text/plain": [
       "ValuesView(OrderedCaseInsensitiveDict([('thaipdf', Entry('manual',\n",
       "  fields=[\n",
       "    ('title', 'thaipdf: R Markdown to PDF in Thai Language'), \n",
       "    ('year', '2022'), \n",
       "    ('note', 'R package version 0.1.2'), \n",
       "    ('url', 'https://CRAN.R-project.org/package=thaipdf')],\n",
       "  persons=OrderedCaseInsensitiveDict([('author', [Person('Sirivongrungson, Kittipos')])]))), ('moodleStats', Entry('manual',\n",
       "  fields=[\n",
       "    ('title', 'moodleStats: Analysis of Moodle Quiz Report'), \n",
       "    ('year', '2024'), \n",
       "    ('note', 'R package version 0.1.0, https://lightbridge-ks.github.io/moodleStats/'), \n",
       "    ('url', 'https://github.com/Lightbridge-KS/moodleStats')],\n",
       "  persons=OrderedCaseInsensitiveDict([('author', [Person('Sirivongrungson, Kittipos')])])))]))"
      ]
     },
     "execution_count": 20,
     "metadata": {},
     "output_type": "execute_result"
    }
   ],
   "source": [
    "bibdata_1 = parse_string(bibtex_entry, 'bibtex')\n",
    "bibdata_1.entries.values()"
   ]
  },
  {
   "cell_type": "code",
   "execution_count": 23,
   "metadata": {},
   "outputs": [
    {
     "data": {
      "text/plain": [
       "[Entry('manual',\n",
       "   fields=[\n",
       "     ('title', 'thaipdf: R Markdown to PDF in Thai Language'), \n",
       "     ('year', '2022'), \n",
       "     ('note', 'R package version 0.1.2'), \n",
       "     ('url', 'https://CRAN.R-project.org/package=thaipdf')],\n",
       "   persons=OrderedCaseInsensitiveDict([('author', [Person('Sirivongrungson, Kittipos')])])),\n",
       " Entry('manual',\n",
       "   fields=[\n",
       "     ('title', 'moodleStats: Analysis of Moodle Quiz Report'), \n",
       "     ('year', '2024'), \n",
       "     ('note', 'R package version 0.1.0, https://lightbridge-ks.github.io/moodleStats/'), \n",
       "     ('url', 'https://github.com/Lightbridge-KS/moodleStats')],\n",
       "   persons=OrderedCaseInsensitiveDict([('author', [Person('Sirivongrungson, Kittipos')])]))]"
      ]
     },
     "execution_count": 23,
     "metadata": {},
     "output_type": "execute_result"
    }
   ],
   "source": [
    "[x for x in bibdata_1.entries.values()]"
   ]
  },
  {
   "cell_type": "code",
   "execution_count": 24,
   "metadata": {},
   "outputs": [
    {
     "data": {
      "text/plain": [
       "['MANUAL', 'MANUAL']"
      ]
     },
     "execution_count": 24,
     "metadata": {},
     "output_type": "execute_result"
    }
   ],
   "source": [
    "[x.type.upper() for x in bibdata_1.entries.values()]"
   ]
  }
 ],
 "metadata": {
  "kernelspec": {
   "display_name": "Python 3",
   "language": "python",
   "name": "python3"
  },
  "language_info": {
   "codemirror_mode": {
    "name": "ipython",
    "version": 3
   },
   "file_extension": ".py",
   "mimetype": "text/x-python",
   "name": "python",
   "nbconvert_exporter": "python",
   "pygments_lexer": "ipython3",
   "version": "3.10.10"
  }
 },
 "nbformat": 4,
 "nbformat_minor": 2
}
