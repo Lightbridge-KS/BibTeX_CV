{
 "cells": [
  {
   "cell_type": "markdown",
   "metadata": {},
   "source": [
    "# Convert BiBTeX to ris"
   ]
  },
  {
   "cell_type": "code",
   "execution_count": 2,
   "metadata": {},
   "outputs": [],
   "source": [
    "from pybtex.database import parse_string\n",
    "from pybtex.database.output.bibtex import Writer\n",
    "from convert import bibtex_to_ris_file, bibtex_to_ris, read_text_file, write_text_file"
   ]
  },
  {
   "cell_type": "markdown",
   "metadata": {},
   "source": [
    "## Convert"
   ]
  },
  {
   "cell_type": "code",
   "execution_count": 3,
   "metadata": {},
   "outputs": [
    {
     "name": "stdout",
     "output_type": "stream",
     "text": [
      "Text successfully written to ref/CV-out.ris.\n"
     ]
    }
   ],
   "source": [
    "bibtex_to_ris_file(bibtex_path=\"ref/CV.bib\", ris_path=\"ref/CV-out.ris\")"
   ]
  },
  {
   "cell_type": "markdown",
   "metadata": {},
   "source": [
    "## Component"
   ]
  },
  {
   "cell_type": "code",
   "execution_count": 3,
   "metadata": {},
   "outputs": [
    {
     "name": "stdout",
     "output_type": "stream",
     "text": [
      "Text successfully written to ref/CV.ris.\n"
     ]
    }
   ],
   "source": [
    "cv_bib_str = read_text_file(\"ref/CV.bib\")\n",
    "cv_ris_str = bibtex_to_ris(cv_bib_str)\n",
    "write_text_file(cv_ris_str, \"ref/CV-out.ris\")"
   ]
  }
 ],
 "metadata": {
  "kernelspec": {
   "display_name": "Python 3",
   "language": "python",
   "name": "python3"
  },
  "language_info": {
   "codemirror_mode": {
    "name": "ipython",
    "version": 3
   },
   "file_extension": ".py",
   "mimetype": "text/x-python",
   "name": "python",
   "nbconvert_exporter": "python",
   "pygments_lexer": "ipython3",
   "version": "3.10.10"
  }
 },
 "nbformat": 4,
 "nbformat_minor": 2
}
